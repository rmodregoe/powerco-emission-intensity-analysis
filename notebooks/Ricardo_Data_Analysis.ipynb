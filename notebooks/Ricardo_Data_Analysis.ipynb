{
 "cells": [
  {
   "cell_type": "markdown",
   "id": "c9f3e58e",
   "metadata": {},
   "source": [
    "Physical Emission Intensity Data Analysis"
   ]
  },
  {
   "cell_type": "markdown",
   "id": "05d859c4",
   "metadata": {},
   "source": [
    "Imports and Configuration"
   ]
  },
  {
   "cell_type": "code",
   "execution_count": 1,
   "id": "2e328108",
   "metadata": {},
   "outputs": [
    {
     "name": "stderr",
     "output_type": "stream",
     "text": [
      "<frozen importlib._bootstrap>:228: RuntimeWarning: scipy._lib.messagestream.MessageStream size changed, may indicate binary incompatibility. Expected 56 from C header, got 64 from PyObject\n"
     ]
    }
   ],
   "source": [
    "# core imports\n",
    "import logging\n",
    "import pandas as pd\n",
    "import numpy as np\n",
    "import logging\n",
    "# defined modules\n",
    "from config import *\n",
    "from data_loader import DataLoader\n",
    "from coordinate_converter import CoordinateConverter\n",
    "from spatial_matcher     import SpatialMatcher\n",
    "from analyzers           import (\n",
    "    PowerPlantAnalyzer,\n",
    "    CapacityFactorAnalyzer,\n",
    "    EmissionAnalyzer,\n",
    "    EnergyCalculator,\n",
    "    EmissionCalculator,\n",
    ")\n",
    "# set up logging to print to notebook output\n",
    "logging.basicConfig(level=logging.INFO,\n",
    "                    format=\"%(asctime)s %(levelname)s: %(message)s\")\n",
    "logger = logging.getLogger()"
   ]
  },
  {
   "cell_type": "markdown",
   "id": "35decefa",
   "metadata": {},
   "source": [
    "Data Loading"
   ]
  },
  {
   "cell_type": "code",
   "execution_count": 2,
   "id": "1d87b1ef",
   "metadata": {},
   "outputs": [],
   "source": [
    "#Global datasets\n",
    "gpp = DataLoader.load_global_power_plants()\n",
    "emu = DataLoader.load_ember_power_plants()\n",
    "electricity_generation_df = DataLoader.load_excel(POWERCO_XLSX, sheet_name=ELECTRICITY_GENERATION_XLSX_SHEET)\n",
    "capacity_factor_df = DataLoader.load_excel(CAPACITY_FACTOR_XLSX, sheet_name=CAPACITY_FACTOR_XLSX_SHEET)\n",
    "offshore_wind_df = DataLoader.load_excel(OFFSHORE_WIND_XLSX, sheet_name=OFFSHORE_WIND_XLSX_SHEET)\n",
    "#Client data\n",
    "powerco_df = DataLoader.load_excel(POWERCO_XLSX, sheet_name=POWERCO_XLSX_SHEET)"
   ]
  },
  {
   "cell_type": "markdown",
   "id": "20ddd3c8",
   "metadata": {},
   "source": [
    "Geographic matching to join power plants' datasets"
   ]
  },
  {
   "cell_type": "code",
   "execution_count": 3,
   "id": "05110fdb",
   "metadata": {},
   "outputs": [
    {
     "name": "stderr",
     "output_type": "stream",
     "text": [
      "2025-05-12 18:45:14,996 INFO: Matched 34 of 180 points under 0.020°\n",
      "2025-05-12 18:45:15,012 INFO: Matched 34 plants\n"
     ]
    }
   ],
   "source": [
    "gpp_matched = SpatialMatcher.match_locations(gpp, emu, tol=0.02)\n",
    "logger.info(\"Matched %d plants\", len(gpp_matched))"
   ]
  },
  {
   "cell_type": "markdown",
   "id": "38c6a168",
   "metadata": {},
   "source": [
    "Emissions per MW"
   ]
  },
  {
   "cell_type": "code",
   "execution_count": 4,
   "id": "33a9f644",
   "metadata": {},
   "outputs": [
    {
     "name": "stderr",
     "output_type": "stream",
     "text": [
      "2025-05-12 18:45:15,052 INFO: Avg kg CO2e per MW: 7168687.09\n"
     ]
    }
   ],
   "source": [
    "#Convert gpp_match tons of emissions of CO2 to kg of CO2\n",
    "gpp_matched[\"Emissions (tCO2e)\"] = gpp_matched[\"Emissions (tCO2e)\"] * TONS_TO_KG\n",
    "emissions = EmissionAnalyzer.calculate_emissions_per_mw(gpp_matched)\n",
    "gas_plants_avg_kg_emission_per_mw = EmissionAnalyzer.calculate_average_emissions_per_mw(emissions)\n",
    "logger.info(\"Avg kg CO2e per MW: %.2f\", gas_plants_avg_kg_emission_per_mw)\n"
   ]
  },
  {
   "cell_type": "markdown",
   "id": "92167ce2",
   "metadata": {},
   "source": [
    "Capacity Factors for Solar Power Plants in Germany"
   ]
  },
  {
   "cell_type": "code",
   "execution_count": 5,
   "id": "43ed6f10",
   "metadata": {},
   "outputs": [
    {
     "name": "stderr",
     "output_type": "stream",
     "text": [
      "2025-05-12 18:45:15,085 INFO: Avg capacity factor for solar parks in Germany: 0.12\n"
     ]
    }
   ],
   "source": [
    "# Filter and calculate capacity factors for solar parks in Germany\n",
    "solar_parks_germany_df = capacity_factor_df[(capacity_factor_df['Country'] == 'Germany') & (capacity_factor_df['Energy Source'] == 'Solar Park')]\n",
    "avg_solar_capacity_factor = CapacityFactorAnalyzer.average_capacity_factor(solar_parks_germany_df, 'Value')\n",
    "logger.info(\"Avg capacity factor for solar parks in Germany: %.2f\", avg_solar_capacity_factor)"
   ]
  },
  {
   "cell_type": "markdown",
   "id": "07d3d489",
   "metadata": {},
   "source": [
    "Capacity Factors for Offshore Wind Parks in the North Sea"
   ]
  },
  {
   "cell_type": "code",
   "execution_count": 6,
   "id": "242cde6f",
   "metadata": {},
   "outputs": [
    {
     "name": "stderr",
     "output_type": "stream",
     "text": [
      "2025-05-12 18:45:15,123 INFO: Avg capacity factor for offshore wind in North Sea: 0.44\n"
     ]
    }
   ],
   "source": [
    "offshore_wind_df = CoordinateConverter.convert_coordinates(offshore_wind_df, 'Latitude', 'Longitude')\n",
    "analyzer = PowerPlantAnalyzer(offshore_wind_df)\n",
    "north_sea_power_plants = analyzer.filter_north_sea('Latitude', 'Longitude')\n",
    "avg_offshore_north_sea_capacity_factor = CapacityFactorAnalyzer.average_capacity_factor(north_sea_power_plants, 'Capacity factor')\n",
    "logger.info(\"Avg capacity factor for offshore wind in North Sea: %.2f\", avg_offshore_north_sea_capacity_factor)"
   ]
  },
  {
   "cell_type": "markdown",
   "id": "0b849a1c",
   "metadata": {},
   "source": [
    "Capacity Factors for Gas Power Plants in Germany"
   ]
  },
  {
   "cell_type": "code",
   "execution_count": 7,
   "id": "4f891c2f",
   "metadata": {},
   "outputs": [
    {
     "name": "stderr",
     "output_type": "stream",
     "text": [
      "2025-05-12 18:45:15,153 INFO: Avg capacity factor for gas power plants in Germany: 0.44\n"
     ]
    }
   ],
   "source": [
    "germany_gas_power_plants_df = gpp[['Name', 'Capacity (MW)', 'Generation (GWh)']].copy()\n",
    "germany_gas_power_plants_df [\"Generation (GWh)\"] = germany_gas_power_plants_df[\"Generation (GWh)\"]* GWH_TO_MWH\n",
    "germany_gas_power_plants_df.rename(columns={'Generation (GWh)': 'generation(MWh)'}, inplace=True)\n",
    "germany_gas_power_plants_df.rename(columns={'Capacity (MW)': 'capacity(MW)'}, inplace=True)\n",
    "germany_gas_power_plants_df = CapacityFactorAnalyzer.calculate_capacity_factor(germany_gas_power_plants_df, 'generation(MWh)', 'capacity(MW)')\n",
    "average_german_gas_capacity_factor = CapacityFactorAnalyzer.average_capacity_factor(germany_gas_power_plants_df, 'Capacity Factor')\n",
    "logger.info(\"Avg capacity factor for gas power plants in Germany: %.2f\", average_german_gas_capacity_factor)"
   ]
  },
  {
   "cell_type": "markdown",
   "id": "c8576df5",
   "metadata": {},
   "source": [
    "Calculate load proportions: The proportion of energy generated by base load and peak load operations power plants"
   ]
  },
  {
   "cell_type": "code",
   "execution_count": 8,
   "id": "647b988f",
   "metadata": {},
   "outputs": [
    {
     "name": "stderr",
     "output_type": "stream",
     "text": [
      "2025-05-12 18:45:15,185 INFO: Peak load proportion: 0.08\n",
      "2025-05-12 18:45:15,203 INFO: Base load proportion: 0.92\n"
     ]
    }
   ],
   "source": [
    "peak_load_proportion, base_load_proportion = PowerPlantAnalyzer.calculate_load_proportions(electricity_generation_df)\n",
    "logger.info(\"Peak load proportion: %.2f\", peak_load_proportion)\n",
    "logger.info(\"Base load proportion: %.2f\", base_load_proportion)\n",
    "average_capacity_factor_continous_load = (average_german_gas_capacity_factor - (peak_load_proportion * PEAK_CAPACITY_FACTOR)) / base_load_proportion"
   ]
  },
  {
   "cell_type": "markdown",
   "id": "c9214bcd",
   "metadata": {},
   "source": [
    "Calculation of Physical Emission Intensity for PowerCo"
   ]
  },
  {
   "cell_type": "markdown",
   "id": "4def23c3",
   "metadata": {},
   "source": [
    "Bavaria Gas Power Plant base load 100 MW"
   ]
  },
  {
   "cell_type": "code",
   "execution_count": 9,
   "id": "6b25786a",
   "metadata": {},
   "outputs": [
    {
     "name": "stderr",
     "output_type": "stream",
     "text": [
      "2025-05-12 18:45:15,269 INFO: Bavaria gas power plant energy generation: 412579.15 MWh\n",
      "2025-05-12 18:45:15,270 INFO: Bavaria gas power plant emissions: 716868708.96 kg CO2e\n",
      "2025-05-12 18:45:15,272 INFO: Bavaria gas power plant emission intensity: 1737.53 kg CO2e/MWh\n"
     ]
    }
   ],
   "source": [
    "bavaria_gas_capacity = PowerPlantAnalyzer.select_client_plant_value(powerco_df, 'Power Plant type', 'Gas (Base load)', 'Power Capacity (MW)')\n",
    "bavaria_gas_energy = EnergyCalculator.calculate_energy_generation(bavaria_gas_capacity, average_capacity_factor_continous_load) #bavaria_gas_capacity * HOURS_IN_YEAR * avg_offshore_capacity_factor\n",
    "bavaria_gas_emissions = EmissionCalculator.calculate_emission(gas_plants_avg_kg_emission_per_mw, bavaria_gas_capacity)\n",
    "bavaria_emission_intensity = EmissionCalculator.calculate_emission_intensity(bavaria_gas_emissions, bavaria_gas_energy)\n",
    "logger.info(\"Bavaria gas power plant energy generation: %.2f MWh\", bavaria_gas_energy)\n",
    "logger.info(\"Bavaria gas power plant emissions: %.2f kg CO2e\", bavaria_gas_emissions)\n",
    "logger.info(\"Bavaria gas power plant emission intensity: %.2f kg CO2e/MWh\", bavaria_emission_intensity)"
   ]
  },
  {
   "cell_type": "markdown",
   "id": "cbccbf07",
   "metadata": {},
   "source": [
    "NRW Gas Power Plant peak load 40 MW\n"
   ]
  },
  {
   "cell_type": "code",
   "execution_count": 10,
   "id": "4bd85614",
   "metadata": {},
   "outputs": [
    {
     "name": "stderr",
     "output_type": "stream",
     "text": [
      "2025-05-12 18:45:15,297 INFO: NRW gas power plant energy generation: 45552.00 MWh\n",
      "2025-05-12 18:45:15,297 INFO: NRW gas power plant emissions: 286747483.58 kg CO2e\n",
      "2025-05-12 18:45:15,297 INFO: NRW gas power plant emission intensity: 6294.95 kg CO2e/MWh\n"
     ]
    }
   ],
   "source": [
    "NRW_plant_capacity = PowerPlantAnalyzer.select_client_plant_value(powerco_df, 'Power Plant type', 'Gas (Peak load)', 'Power Capacity (MW)')\n",
    "NRW_plant_energy = EnergyCalculator.calculate_energy_generation(NRW_plant_capacity, PEAK_CAPACITY_FACTOR)\n",
    "NRW_plant_emissions = EmissionCalculator.calculate_emission(gas_plants_avg_kg_emission_per_mw, NRW_plant_capacity)\n",
    "NRW_emission_intensity = EmissionCalculator.calculate_emission_intensity(NRW_plant_emissions, NRW_plant_energy)\n",
    "logger.info(\"NRW gas power plant energy generation: %.2f MWh\", NRW_plant_energy)\n",
    "logger.info(\"NRW gas power plant emissions: %.2f kg CO2e\", NRW_plant_emissions)\n",
    "logger.info(\"NRW gas power plant emission intensity: %.2f kg CO2e/MWh\", NRW_emission_intensity)"
   ]
  },
  {
   "cell_type": "markdown",
   "id": "85ffe55b",
   "metadata": {},
   "source": [
    "North Sea Wind Offshore Park 50 MW \n"
   ]
  },
  {
   "cell_type": "code",
   "execution_count": 11,
   "id": "a7d560f3",
   "metadata": {},
   "outputs": [
    {
     "name": "stderr",
     "output_type": "stream",
     "text": [
      "2025-05-12 18:45:15,370 INFO: Offshore wind park energy generation: 192768.67 MWh\n",
      "2025-05-12 18:45:15,371 INFO: Offshore wind park emissions: 0.00 kg CO2e\n"
     ]
    }
   ],
   "source": [
    "wind_park_capacity = PowerPlantAnalyzer.select_client_plant_value(powerco_df, 'Power Plant type', 'Offshore Wind Park', 'Power Capacity (MW)')\n",
    "wind_park_energy = EnergyCalculator.calculate_energy_generation(wind_park_capacity, avg_offshore_north_sea_capacity_factor)\n",
    "wind_park_emissions = 0 #They do not produce emissions during operation, only those from the vessels used for service and maintenance. Source: https://us.orsted.com/renewable-energy-solutions/offshore-wind/seven-facts-about-offshore-wind/carbon-footprint\n",
    "logger.info(\"Offshore wind park energy generation: %.2f MWh\", wind_park_energy)\n",
    "logger.info(\"Offshore wind park emissions: %.2f kg CO2e\", wind_park_emissions)"
   ]
  },
  {
   "cell_type": "markdown",
   "id": "27dca934",
   "metadata": {},
   "source": [
    "Bavaria Solar Park 10 MW "
   ]
  },
  {
   "cell_type": "code",
   "execution_count": 12,
   "id": "e5f77032",
   "metadata": {},
   "outputs": [
    {
     "name": "stderr",
     "output_type": "stream",
     "text": [
      "2025-05-12 18:45:15,749 INFO: Solar park energy generation: 10249.20 MWh\n",
      "2025-05-12 18:45:15,749 INFO: Solar park emissions: 0.00 kg CO2e\n"
     ]
    }
   ],
   "source": [
    "solar_park_capacity = PowerPlantAnalyzer.select_client_plant_value(powerco_df, 'Power Plant type', 'Solar Park', 'Power Capacity (MW)')\n",
    "solar_park_energy = EnergyCalculator.calculate_energy_generation(solar_park_capacity, avg_solar_capacity_factor)\n",
    "solar_park_emissions = 0\n",
    "logger.info(\"Solar park energy generation: %.2f MWh\", solar_park_energy)\n",
    "logger.info(\"Solar park emissions: %.2f kg CO2e\", solar_park_emissions)"
   ]
  },
  {
   "cell_type": "markdown",
   "id": "9c164c56",
   "metadata": {},
   "source": [
    "PowerCo's overall physical emission intensity"
   ]
  },
  {
   "cell_type": "code",
   "execution_count": 13,
   "id": "bfe5d5fa",
   "metadata": {},
   "outputs": [
    {
     "name": "stderr",
     "output_type": "stream",
     "text": [
      "2025-05-12 18:45:15,809 INFO: PowerCo's physical emission intensity: 1517.99 kg CO2e/MWh\n"
     ]
    }
   ],
   "source": [
    "powerco_generated_energy = bavaria_gas_energy  + NRW_plant_energy + wind_park_energy + solar_park_energy\n",
    "powerco_emissions = bavaria_gas_emissions + NRW_plant_emissions + wind_park_emissions + solar_park_emissions\n",
    "powerco_emission_intensity = EmissionCalculator.calculate_emission_intensity(powerco_emissions, powerco_generated_energy)\n",
    "logger.info(\"PowerCo's physical emission intensity: %.2f kg CO2e/MWh\", powerco_emission_intensity)"
   ]
  },
  {
   "cell_type": "markdown",
   "id": "cdc65263",
   "metadata": {},
   "source": [
    "Calculate average emissions for the \"Big 4\" German electricity generators for benchmark"
   ]
  },
  {
   "cell_type": "code",
   "execution_count": 15,
   "id": "d0333aa5",
   "metadata": {},
   "outputs": [
    {
     "name": "stderr",
     "output_type": "stream",
     "text": [
      "2025-05-12 18:45:27,426 INFO: Avg emissions of Big4: 287.74 kg CO2e/MWh\n"
     ]
    }
   ],
   "source": [
    "vattenfall_emission_intensity = EmissionCalculator.calculate_emission_intensity(VATTENFALL_EMISSIONS, VATTENFALL_GENERATION)\n",
    "avg_emissions_big4 = (RWE_PHYSICAL_EMISSION_INTENSITY + ENBW_PHYSICAL_EMISSION_INTENSITY + EON_PHYSICAL_EMISSION_INTENSITY + vattenfall_emission_intensity) / 4\n",
    "logger.info(\"Avg emissions of Big4: %.2f kg CO2e/MWh\", avg_emissions_big4)"
   ]
  }
 ],
 "metadata": {
  "kernelspec": {
   "display_name": "base",
   "language": "python",
   "name": "python3"
  },
  "language_info": {
   "codemirror_mode": {
    "name": "ipython",
    "version": 3
   },
   "file_extension": ".py",
   "mimetype": "text/x-python",
   "name": "python",
   "nbconvert_exporter": "python",
   "pygments_lexer": "ipython3",
   "version": "3.9.18"
  }
 },
 "nbformat": 4,
 "nbformat_minor": 5
}
